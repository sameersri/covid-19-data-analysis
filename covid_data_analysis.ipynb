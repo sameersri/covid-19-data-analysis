{
  "cells": [
    {
      "cell_type": "code",
      "execution_count": null,
      "metadata": {
        "id": "CIKVIdwr1UKk"
      },
      "outputs": [],
      "source": [
        "import pandas as pd\n",
        "import seaborn as sns\n",
        "import numpy as np"
      ]
    },
    {
      "cell_type": "code",
      "execution_count": null,
      "metadata": {
        "id": "A3hFS7TA1UKm"
      },
      "outputs": [],
      "source": [
        "import matplotlib.pyplot as plt"
      ]
    },
    {
      "cell_type": "code",
      "execution_count": null,
      "metadata": {
        "id": "BeW88Lb61UKn"
      },
      "outputs": [],
      "source": [
        "df=pd.read_csv(\"covid_19_india (1).csv\")"
      ]
    },
    {
      "cell_type": "code",
      "execution_count": null,
      "metadata": {
        "id": "d7iOyu3F1UKn",
        "outputId": "ff2af4d6-a204-43e3-ea8b-abed2d261f0b"
      },
      "outputs": [
        {
          "data": {
            "text/html": [
              "<div>\n",
              "<style scoped>\n",
              "    .dataframe tbody tr th:only-of-type {\n",
              "        vertical-align: middle;\n",
              "    }\n",
              "\n",
              "    .dataframe tbody tr th {\n",
              "        vertical-align: top;\n",
              "    }\n",
              "\n",
              "    .dataframe thead th {\n",
              "        text-align: right;\n",
              "    }\n",
              "</style>\n",
              "<table border=\"1\" class=\"dataframe\">\n",
              "  <thead>\n",
              "    <tr style=\"text-align: right;\">\n",
              "      <th></th>\n",
              "      <th>Sno</th>\n",
              "      <th>Date</th>\n",
              "      <th>Time</th>\n",
              "      <th>State/UnionTerritory</th>\n",
              "      <th>ConfirmedIndianNational</th>\n",
              "      <th>ConfirmedForeignNational</th>\n",
              "      <th>Cured</th>\n",
              "      <th>Deaths</th>\n",
              "      <th>Confirmed</th>\n",
              "    </tr>\n",
              "  </thead>\n",
              "  <tbody>\n",
              "    <tr>\n",
              "      <th>0</th>\n",
              "      <td>1</td>\n",
              "      <td>1/30/2020</td>\n",
              "      <td>6:00 PM</td>\n",
              "      <td>Kerala</td>\n",
              "      <td>1</td>\n",
              "      <td>0</td>\n",
              "      <td>0</td>\n",
              "      <td>0</td>\n",
              "      <td>1</td>\n",
              "    </tr>\n",
              "    <tr>\n",
              "      <th>1</th>\n",
              "      <td>2</td>\n",
              "      <td>1/31/2020</td>\n",
              "      <td>6:00 PM</td>\n",
              "      <td>Kerala</td>\n",
              "      <td>1</td>\n",
              "      <td>0</td>\n",
              "      <td>0</td>\n",
              "      <td>0</td>\n",
              "      <td>1</td>\n",
              "    </tr>\n",
              "    <tr>\n",
              "      <th>2</th>\n",
              "      <td>3</td>\n",
              "      <td>2/1/2020</td>\n",
              "      <td>6:00 PM</td>\n",
              "      <td>Kerala</td>\n",
              "      <td>2</td>\n",
              "      <td>0</td>\n",
              "      <td>0</td>\n",
              "      <td>0</td>\n",
              "      <td>2</td>\n",
              "    </tr>\n",
              "    <tr>\n",
              "      <th>3</th>\n",
              "      <td>4</td>\n",
              "      <td>2/2/2020</td>\n",
              "      <td>6:00 PM</td>\n",
              "      <td>Kerala</td>\n",
              "      <td>3</td>\n",
              "      <td>0</td>\n",
              "      <td>0</td>\n",
              "      <td>0</td>\n",
              "      <td>3</td>\n",
              "    </tr>\n",
              "    <tr>\n",
              "      <th>4</th>\n",
              "      <td>5</td>\n",
              "      <td>2/3/2020</td>\n",
              "      <td>6:00 PM</td>\n",
              "      <td>Kerala</td>\n",
              "      <td>3</td>\n",
              "      <td>0</td>\n",
              "      <td>0</td>\n",
              "      <td>0</td>\n",
              "      <td>3</td>\n",
              "    </tr>\n",
              "    <tr>\n",
              "      <th>...</th>\n",
              "      <td>...</td>\n",
              "      <td>...</td>\n",
              "      <td>...</td>\n",
              "      <td>...</td>\n",
              "      <td>...</td>\n",
              "      <td>...</td>\n",
              "      <td>...</td>\n",
              "      <td>...</td>\n",
              "      <td>...</td>\n",
              "    </tr>\n",
              "    <tr>\n",
              "      <th>16521</th>\n",
              "      <td>16522</td>\n",
              "      <td>6/28/2021</td>\n",
              "      <td>8:00 AM</td>\n",
              "      <td>Telangana</td>\n",
              "      <td>-</td>\n",
              "      <td>-</td>\n",
              "      <td>602676</td>\n",
              "      <td>3635</td>\n",
              "      <td>620613</td>\n",
              "    </tr>\n",
              "    <tr>\n",
              "      <th>16522</th>\n",
              "      <td>16523</td>\n",
              "      <td>6/28/2021</td>\n",
              "      <td>8:00 AM</td>\n",
              "      <td>Tripura</td>\n",
              "      <td>-</td>\n",
              "      <td>-</td>\n",
              "      <td>60694</td>\n",
              "      <td>672</td>\n",
              "      <td>64863</td>\n",
              "    </tr>\n",
              "    <tr>\n",
              "      <th>16523</th>\n",
              "      <td>16524</td>\n",
              "      <td>6/28/2021</td>\n",
              "      <td>8:00 AM</td>\n",
              "      <td>Uttarakhand</td>\n",
              "      <td>-</td>\n",
              "      <td>-</td>\n",
              "      <td>330066</td>\n",
              "      <td>7088</td>\n",
              "      <td>339619</td>\n",
              "    </tr>\n",
              "    <tr>\n",
              "      <th>16524</th>\n",
              "      <td>16525</td>\n",
              "      <td>6/28/2021</td>\n",
              "      <td>8:00 AM</td>\n",
              "      <td>Uttar Pradesh</td>\n",
              "      <td>-</td>\n",
              "      <td>-</td>\n",
              "      <td>1679913</td>\n",
              "      <td>22518</td>\n",
              "      <td>1705596</td>\n",
              "    </tr>\n",
              "    <tr>\n",
              "      <th>16525</th>\n",
              "      <td>16526</td>\n",
              "      <td>6/28/2021</td>\n",
              "      <td>8:00 AM</td>\n",
              "      <td>West Bengal</td>\n",
              "      <td>-</td>\n",
              "      <td>-</td>\n",
              "      <td>1455453</td>\n",
              "      <td>17612</td>\n",
              "      <td>1494949</td>\n",
              "    </tr>\n",
              "  </tbody>\n",
              "</table>\n",
              "<p>16526 rows × 9 columns</p>\n",
              "</div>"
            ],
            "text/plain": [
              "         Sno       Date     Time State/UnionTerritory ConfirmedIndianNational  \\\n",
              "0          1  1/30/2020  6:00 PM               Kerala                       1   \n",
              "1          2  1/31/2020  6:00 PM               Kerala                       1   \n",
              "2          3   2/1/2020  6:00 PM               Kerala                       2   \n",
              "3          4   2/2/2020  6:00 PM               Kerala                       3   \n",
              "4          5   2/3/2020  6:00 PM               Kerala                       3   \n",
              "...      ...        ...      ...                  ...                     ...   \n",
              "16521  16522  6/28/2021  8:00 AM            Telangana                       -   \n",
              "16522  16523  6/28/2021  8:00 AM              Tripura                       -   \n",
              "16523  16524  6/28/2021  8:00 AM          Uttarakhand                       -   \n",
              "16524  16525  6/28/2021  8:00 AM        Uttar Pradesh                       -   \n",
              "16525  16526  6/28/2021  8:00 AM          West Bengal                       -   \n",
              "\n",
              "      ConfirmedForeignNational    Cured  Deaths  Confirmed  \n",
              "0                            0        0       0          1  \n",
              "1                            0        0       0          1  \n",
              "2                            0        0       0          2  \n",
              "3                            0        0       0          3  \n",
              "4                            0        0       0          3  \n",
              "...                        ...      ...     ...        ...  \n",
              "16521                        -   602676    3635     620613  \n",
              "16522                        -    60694     672      64863  \n",
              "16523                        -   330066    7088     339619  \n",
              "16524                        -  1679913   22518    1705596  \n",
              "16525                        -  1455453   17612    1494949  \n",
              "\n",
              "[16526 rows x 9 columns]"
            ]
          },
          "execution_count": 4,
          "metadata": {},
          "output_type": "execute_result"
        }
      ],
      "source": [
        "df"
      ]
    },
    {
      "cell_type": "code",
      "execution_count": null,
      "metadata": {
        "id": "UX7zqLXI1UKo",
        "outputId": "3197a945-708a-4486-e935-d7acdb43ef44"
      },
      "outputs": [
        {
          "data": {
            "text/plain": [
              "array(['Kerala', 'Telengana', 'Delhi', 'Rajasthan', 'Uttar Pradesh',\n",
              "       'Haryana', 'Ladakh', 'Tamil Nadu', 'Karnataka', 'Maharashtra',\n",
              "       'Punjab', 'Jammu and Kashmir', 'Andhra Pradesh', 'Uttarakhand',\n",
              "       'Odisha', 'Puducherry', 'West Bengal', 'Chhattisgarh',\n",
              "       'Chandigarh', 'Gujarat', 'Himachal Pradesh', 'Madhya Pradesh',\n",
              "       'Bihar', 'Manipur', 'Mizoram', 'Andaman and Nicobar Islands',\n",
              "       'Goa', 'Unassigned', 'Assam', 'Jharkhand', 'Arunachal Pradesh',\n",
              "       'Tripura', 'Nagaland', 'Meghalaya',\n",
              "       'Dadra and Nagar Haveli and Daman and Diu',\n",
              "       'Cases being reassigned to states', 'Sikkim', 'Daman & Diu',\n",
              "       'Lakshadweep', 'Telangana', 'Dadra and Nagar Haveli', 'Bihar****'],\n",
              "      dtype=object)"
            ]
          },
          "execution_count": 5,
          "metadata": {},
          "output_type": "execute_result"
        }
      ],
      "source": [
        "df[\"State/UnionTerritory\"].unique()"
      ]
    },
    {
      "cell_type": "code",
      "execution_count": null,
      "metadata": {
        "id": "OxadIjj61UKo"
      },
      "outputs": [],
      "source": [
        "Delhi_case=df.groupby(\"State/UnionTerritory\").get_group(\"Delhi\").drop(\"Sno\",axis=1)"
      ]
    },
    {
      "cell_type": "code",
      "execution_count": null,
      "metadata": {
        "id": "KrV3VEWx1UKo",
        "outputId": "23b860e6-4729-4356-a7d6-a262988c6bcb"
      },
      "outputs": [
        {
          "data": {
            "text/html": [
              "<div>\n",
              "<style scoped>\n",
              "    .dataframe tbody tr th:only-of-type {\n",
              "        vertical-align: middle;\n",
              "    }\n",
              "\n",
              "    .dataframe tbody tr th {\n",
              "        vertical-align: top;\n",
              "    }\n",
              "\n",
              "    .dataframe thead th {\n",
              "        text-align: right;\n",
              "    }\n",
              "</style>\n",
              "<table border=\"1\" class=\"dataframe\">\n",
              "  <thead>\n",
              "    <tr style=\"text-align: right;\">\n",
              "      <th></th>\n",
              "      <th>Date</th>\n",
              "      <th>Time</th>\n",
              "      <th>State/UnionTerritory</th>\n",
              "      <th>ConfirmedIndianNational</th>\n",
              "      <th>ConfirmedForeignNational</th>\n",
              "      <th>Cured</th>\n",
              "      <th>Deaths</th>\n",
              "      <th>Confirmed</th>\n",
              "    </tr>\n",
              "  </thead>\n",
              "  <tbody>\n",
              "    <tr>\n",
              "      <th>34</th>\n",
              "      <td>3/2/2020</td>\n",
              "      <td>6:00 PM</td>\n",
              "      <td>Delhi</td>\n",
              "      <td>1</td>\n",
              "      <td>0</td>\n",
              "      <td>0</td>\n",
              "      <td>0</td>\n",
              "      <td>1</td>\n",
              "    </tr>\n",
              "    <tr>\n",
              "      <th>38</th>\n",
              "      <td>3/3/2020</td>\n",
              "      <td>6:00 PM</td>\n",
              "      <td>Delhi</td>\n",
              "      <td>1</td>\n",
              "      <td>0</td>\n",
              "      <td>0</td>\n",
              "      <td>0</td>\n",
              "      <td>1</td>\n",
              "    </tr>\n",
              "    <tr>\n",
              "      <th>42</th>\n",
              "      <td>3/4/2020</td>\n",
              "      <td>6:00 PM</td>\n",
              "      <td>Delhi</td>\n",
              "      <td>1</td>\n",
              "      <td>0</td>\n",
              "      <td>0</td>\n",
              "      <td>0</td>\n",
              "      <td>1</td>\n",
              "    </tr>\n",
              "    <tr>\n",
              "      <th>45</th>\n",
              "      <td>3/5/2020</td>\n",
              "      <td>6:00 PM</td>\n",
              "      <td>Delhi</td>\n",
              "      <td>2</td>\n",
              "      <td>0</td>\n",
              "      <td>0</td>\n",
              "      <td>0</td>\n",
              "      <td>2</td>\n",
              "    </tr>\n",
              "    <tr>\n",
              "      <th>51</th>\n",
              "      <td>3/6/2020</td>\n",
              "      <td>6:00 PM</td>\n",
              "      <td>Delhi</td>\n",
              "      <td>3</td>\n",
              "      <td>0</td>\n",
              "      <td>0</td>\n",
              "      <td>0</td>\n",
              "      <td>3</td>\n",
              "    </tr>\n",
              "    <tr>\n",
              "      <th>62</th>\n",
              "      <td>3/7/2020</td>\n",
              "      <td>6:00 PM</td>\n",
              "      <td>Delhi</td>\n",
              "      <td>3</td>\n",
              "      <td>0</td>\n",
              "      <td>0</td>\n",
              "      <td>0</td>\n",
              "      <td>3</td>\n",
              "    </tr>\n",
              "    <tr>\n",
              "      <th>71</th>\n",
              "      <td>3/8/2020</td>\n",
              "      <td>6:00 PM</td>\n",
              "      <td>Delhi</td>\n",
              "      <td>3</td>\n",
              "      <td>0</td>\n",
              "      <td>0</td>\n",
              "      <td>0</td>\n",
              "      <td>3</td>\n",
              "    </tr>\n",
              "    <tr>\n",
              "      <th>84</th>\n",
              "      <td>3/9/2020</td>\n",
              "      <td>6:00 PM</td>\n",
              "      <td>Delhi</td>\n",
              "      <td>4</td>\n",
              "      <td>0</td>\n",
              "      <td>0</td>\n",
              "      <td>0</td>\n",
              "      <td>4</td>\n",
              "    </tr>\n",
              "    <tr>\n",
              "      <th>87</th>\n",
              "      <td>3/10/2020</td>\n",
              "      <td>6:00 PM</td>\n",
              "      <td>Delhi</td>\n",
              "      <td>4</td>\n",
              "      <td>0</td>\n",
              "      <td>0</td>\n",
              "      <td>0</td>\n",
              "      <td>4</td>\n",
              "    </tr>\n",
              "    <tr>\n",
              "      <th>98</th>\n",
              "      <td>3/11/2020</td>\n",
              "      <td>6:00 PM</td>\n",
              "      <td>Delhi</td>\n",
              "      <td>5</td>\n",
              "      <td>0</td>\n",
              "      <td>0</td>\n",
              "      <td>0</td>\n",
              "      <td>5</td>\n",
              "    </tr>\n",
              "  </tbody>\n",
              "</table>\n",
              "</div>"
            ],
            "text/plain": [
              "         Date     Time State/UnionTerritory ConfirmedIndianNational  \\\n",
              "34   3/2/2020  6:00 PM                Delhi                       1   \n",
              "38   3/3/2020  6:00 PM                Delhi                       1   \n",
              "42   3/4/2020  6:00 PM                Delhi                       1   \n",
              "45   3/5/2020  6:00 PM                Delhi                       2   \n",
              "51   3/6/2020  6:00 PM                Delhi                       3   \n",
              "62   3/7/2020  6:00 PM                Delhi                       3   \n",
              "71   3/8/2020  6:00 PM                Delhi                       3   \n",
              "84   3/9/2020  6:00 PM                Delhi                       4   \n",
              "87  3/10/2020  6:00 PM                Delhi                       4   \n",
              "98  3/11/2020  6:00 PM                Delhi                       5   \n",
              "\n",
              "   ConfirmedForeignNational  Cured  Deaths  Confirmed  \n",
              "34                        0      0       0          1  \n",
              "38                        0      0       0          1  \n",
              "42                        0      0       0          1  \n",
              "45                        0      0       0          2  \n",
              "51                        0      0       0          3  \n",
              "62                        0      0       0          3  \n",
              "71                        0      0       0          3  \n",
              "84                        0      0       0          4  \n",
              "87                        0      0       0          4  \n",
              "98                        0      0       0          5  "
            ]
          },
          "execution_count": 7,
          "metadata": {},
          "output_type": "execute_result"
        }
      ],
      "source": [
        "Delhi_case.head(10)"
      ]
    },
    {
      "cell_type": "code",
      "execution_count": null,
      "metadata": {
        "id": "w0gzW81N1UKo",
        "outputId": "c757e3b2-1042-4484-a266-f7779db210d9"
      },
      "outputs": [
        {
          "data": {
            "text/html": [
              "<div>\n",
              "<style scoped>\n",
              "    .dataframe tbody tr th:only-of-type {\n",
              "        vertical-align: middle;\n",
              "    }\n",
              "\n",
              "    .dataframe tbody tr th {\n",
              "        vertical-align: top;\n",
              "    }\n",
              "\n",
              "    .dataframe thead th {\n",
              "        text-align: right;\n",
              "    }\n",
              "</style>\n",
              "<table border=\"1\" class=\"dataframe\">\n",
              "  <thead>\n",
              "    <tr style=\"text-align: right;\">\n",
              "      <th></th>\n",
              "      <th>Cured</th>\n",
              "      <th>Deaths</th>\n",
              "      <th>Confirmed</th>\n",
              "    </tr>\n",
              "  </thead>\n",
              "  <tbody>\n",
              "    <tr>\n",
              "      <th>count</th>\n",
              "      <td>4.840000e+02</td>\n",
              "      <td>484.000000</td>\n",
              "      <td>4.840000e+02</td>\n",
              "    </tr>\n",
              "    <tr>\n",
              "      <th>mean</th>\n",
              "      <td>4.367540e+05</td>\n",
              "      <td>7938.113636</td>\n",
              "      <td>4.629413e+05</td>\n",
              "    </tr>\n",
              "    <tr>\n",
              "      <th>std</th>\n",
              "      <td>4.235210e+05</td>\n",
              "      <td>6935.716502</td>\n",
              "      <td>4.374784e+05</td>\n",
              "    </tr>\n",
              "    <tr>\n",
              "      <th>min</th>\n",
              "      <td>0.000000e+00</td>\n",
              "      <td>0.000000</td>\n",
              "      <td>1.000000e+00</td>\n",
              "    </tr>\n",
              "    <tr>\n",
              "      <th>25%</th>\n",
              "      <td>5.781975e+04</td>\n",
              "      <td>2726.500000</td>\n",
              "      <td>8.681025e+04</td>\n",
              "    </tr>\n",
              "    <tr>\n",
              "      <th>50%</th>\n",
              "      <td>3.363090e+05</td>\n",
              "      <td>6409.500000</td>\n",
              "      <td>3.728835e+05</td>\n",
              "    </tr>\n",
              "    <tr>\n",
              "      <th>75%</th>\n",
              "      <td>6.267530e+05</td>\n",
              "      <td>10906.750000</td>\n",
              "      <td>6.386570e+05</td>\n",
              "    </tr>\n",
              "    <tr>\n",
              "      <th>max</th>\n",
              "      <td>1.407401e+06</td>\n",
              "      <td>24965.000000</td>\n",
              "      <td>1.433934e+06</td>\n",
              "    </tr>\n",
              "  </tbody>\n",
              "</table>\n",
              "</div>"
            ],
            "text/plain": [
              "              Cured        Deaths     Confirmed\n",
              "count  4.840000e+02    484.000000  4.840000e+02\n",
              "mean   4.367540e+05   7938.113636  4.629413e+05\n",
              "std    4.235210e+05   6935.716502  4.374784e+05\n",
              "min    0.000000e+00      0.000000  1.000000e+00\n",
              "25%    5.781975e+04   2726.500000  8.681025e+04\n",
              "50%    3.363090e+05   6409.500000  3.728835e+05\n",
              "75%    6.267530e+05  10906.750000  6.386570e+05\n",
              "max    1.407401e+06  24965.000000  1.433934e+06"
            ]
          },
          "execution_count": 8,
          "metadata": {},
          "output_type": "execute_result"
        }
      ],
      "source": [
        "Delhi_case.describe()"
      ]
    },
    {
      "cell_type": "code",
      "execution_count": null,
      "metadata": {
        "id": "LoYl1qo71UKp",
        "outputId": "22f59f54-0bfc-4cfb-a531-31339e111582"
      },
      "outputs": [
        {
          "name": "stdout",
          "output_type": "stream",
          "text": [
            "<class 'pandas.core.frame.DataFrame'>\n",
            "Int64Index: 484 entries, 34 to 16498\n",
            "Data columns (total 8 columns):\n",
            " #   Column                    Non-Null Count  Dtype \n",
            "---  ------                    --------------  ----- \n",
            " 0   Date                      484 non-null    object\n",
            " 1   Time                      484 non-null    object\n",
            " 2   State/UnionTerritory      484 non-null    object\n",
            " 3   ConfirmedIndianNational   484 non-null    object\n",
            " 4   ConfirmedForeignNational  484 non-null    object\n",
            " 5   Cured                     484 non-null    int64 \n",
            " 6   Deaths                    484 non-null    int64 \n",
            " 7   Confirmed                 484 non-null    int64 \n",
            "dtypes: int64(3), object(5)\n",
            "memory usage: 34.0+ KB\n"
          ]
        }
      ],
      "source": [
        "Delhi_case.info()\n"
      ]
    },
    {
      "cell_type": "code",
      "execution_count": null,
      "metadata": {
        "id": "ezC59zLy1UKp",
        "outputId": "b7eaa81f-bf83-4b7d-ade2-ec80a3e16719"
      },
      "outputs": [
        {
          "data": {
            "text/plain": [
              "0"
            ]
          },
          "execution_count": 10,
          "metadata": {},
          "output_type": "execute_result"
        }
      ],
      "source": [
        "Delhi_case.duplicated().sum()"
      ]
    },
    {
      "cell_type": "code",
      "execution_count": null,
      "metadata": {
        "id": "o6AxZcgM1UKp"
      },
      "outputs": [],
      "source": [
        "Delhi_case[\"ww_confirmed\"]=Delhi_case.Confirmed.diff()\n",
        "Delhi_case[\"ww_Cured\"]=Delhi_case.Cured.diff()\n",
        "Delhi_case[\"ww_death\"]=Delhi_case.Deaths.diff()"
      ]
    },
    {
      "cell_type": "code",
      "execution_count": null,
      "metadata": {
        "id": "3Lij9CbJ1UKp",
        "outputId": "328b3871-b660-4ca2-c207-2a45aef9e98a"
      },
      "outputs": [
        {
          "data": {
            "text/html": [
              "<div>\n",
              "<style scoped>\n",
              "    .dataframe tbody tr th:only-of-type {\n",
              "        vertical-align: middle;\n",
              "    }\n",
              "\n",
              "    .dataframe tbody tr th {\n",
              "        vertical-align: top;\n",
              "    }\n",
              "\n",
              "    .dataframe thead th {\n",
              "        text-align: right;\n",
              "    }\n",
              "</style>\n",
              "<table border=\"1\" class=\"dataframe\">\n",
              "  <thead>\n",
              "    <tr style=\"text-align: right;\">\n",
              "      <th></th>\n",
              "      <th>Date</th>\n",
              "      <th>Time</th>\n",
              "      <th>State/UnionTerritory</th>\n",
              "      <th>ConfirmedIndianNational</th>\n",
              "      <th>ConfirmedForeignNational</th>\n",
              "      <th>Cured</th>\n",
              "      <th>Deaths</th>\n",
              "      <th>Confirmed</th>\n",
              "      <th>ww_confirmed</th>\n",
              "      <th>ww_Cured</th>\n",
              "      <th>ww_death</th>\n",
              "    </tr>\n",
              "  </thead>\n",
              "  <tbody>\n",
              "    <tr>\n",
              "      <th>34</th>\n",
              "      <td>3/2/2020</td>\n",
              "      <td>6:00 PM</td>\n",
              "      <td>Delhi</td>\n",
              "      <td>1</td>\n",
              "      <td>0</td>\n",
              "      <td>0</td>\n",
              "      <td>0</td>\n",
              "      <td>1</td>\n",
              "      <td>NaN</td>\n",
              "      <td>NaN</td>\n",
              "      <td>NaN</td>\n",
              "    </tr>\n",
              "    <tr>\n",
              "      <th>38</th>\n",
              "      <td>3/3/2020</td>\n",
              "      <td>6:00 PM</td>\n",
              "      <td>Delhi</td>\n",
              "      <td>1</td>\n",
              "      <td>0</td>\n",
              "      <td>0</td>\n",
              "      <td>0</td>\n",
              "      <td>1</td>\n",
              "      <td>0.0</td>\n",
              "      <td>0.0</td>\n",
              "      <td>0.0</td>\n",
              "    </tr>\n",
              "    <tr>\n",
              "      <th>42</th>\n",
              "      <td>3/4/2020</td>\n",
              "      <td>6:00 PM</td>\n",
              "      <td>Delhi</td>\n",
              "      <td>1</td>\n",
              "      <td>0</td>\n",
              "      <td>0</td>\n",
              "      <td>0</td>\n",
              "      <td>1</td>\n",
              "      <td>0.0</td>\n",
              "      <td>0.0</td>\n",
              "      <td>0.0</td>\n",
              "    </tr>\n",
              "    <tr>\n",
              "      <th>45</th>\n",
              "      <td>3/5/2020</td>\n",
              "      <td>6:00 PM</td>\n",
              "      <td>Delhi</td>\n",
              "      <td>2</td>\n",
              "      <td>0</td>\n",
              "      <td>0</td>\n",
              "      <td>0</td>\n",
              "      <td>2</td>\n",
              "      <td>1.0</td>\n",
              "      <td>0.0</td>\n",
              "      <td>0.0</td>\n",
              "    </tr>\n",
              "    <tr>\n",
              "      <th>51</th>\n",
              "      <td>3/6/2020</td>\n",
              "      <td>6:00 PM</td>\n",
              "      <td>Delhi</td>\n",
              "      <td>3</td>\n",
              "      <td>0</td>\n",
              "      <td>0</td>\n",
              "      <td>0</td>\n",
              "      <td>3</td>\n",
              "      <td>1.0</td>\n",
              "      <td>0.0</td>\n",
              "      <td>0.0</td>\n",
              "    </tr>\n",
              "    <tr>\n",
              "      <th>62</th>\n",
              "      <td>3/7/2020</td>\n",
              "      <td>6:00 PM</td>\n",
              "      <td>Delhi</td>\n",
              "      <td>3</td>\n",
              "      <td>0</td>\n",
              "      <td>0</td>\n",
              "      <td>0</td>\n",
              "      <td>3</td>\n",
              "      <td>0.0</td>\n",
              "      <td>0.0</td>\n",
              "      <td>0.0</td>\n",
              "    </tr>\n",
              "    <tr>\n",
              "      <th>71</th>\n",
              "      <td>3/8/2020</td>\n",
              "      <td>6:00 PM</td>\n",
              "      <td>Delhi</td>\n",
              "      <td>3</td>\n",
              "      <td>0</td>\n",
              "      <td>0</td>\n",
              "      <td>0</td>\n",
              "      <td>3</td>\n",
              "      <td>0.0</td>\n",
              "      <td>0.0</td>\n",
              "      <td>0.0</td>\n",
              "    </tr>\n",
              "    <tr>\n",
              "      <th>84</th>\n",
              "      <td>3/9/2020</td>\n",
              "      <td>6:00 PM</td>\n",
              "      <td>Delhi</td>\n",
              "      <td>4</td>\n",
              "      <td>0</td>\n",
              "      <td>0</td>\n",
              "      <td>0</td>\n",
              "      <td>4</td>\n",
              "      <td>1.0</td>\n",
              "      <td>0.0</td>\n",
              "      <td>0.0</td>\n",
              "    </tr>\n",
              "    <tr>\n",
              "      <th>87</th>\n",
              "      <td>3/10/2020</td>\n",
              "      <td>6:00 PM</td>\n",
              "      <td>Delhi</td>\n",
              "      <td>4</td>\n",
              "      <td>0</td>\n",
              "      <td>0</td>\n",
              "      <td>0</td>\n",
              "      <td>4</td>\n",
              "      <td>0.0</td>\n",
              "      <td>0.0</td>\n",
              "      <td>0.0</td>\n",
              "    </tr>\n",
              "    <tr>\n",
              "      <th>98</th>\n",
              "      <td>3/11/2020</td>\n",
              "      <td>6:00 PM</td>\n",
              "      <td>Delhi</td>\n",
              "      <td>5</td>\n",
              "      <td>0</td>\n",
              "      <td>0</td>\n",
              "      <td>0</td>\n",
              "      <td>5</td>\n",
              "      <td>1.0</td>\n",
              "      <td>0.0</td>\n",
              "      <td>0.0</td>\n",
              "    </tr>\n",
              "  </tbody>\n",
              "</table>\n",
              "</div>"
            ],
            "text/plain": [
              "         Date     Time State/UnionTerritory ConfirmedIndianNational  \\\n",
              "34   3/2/2020  6:00 PM                Delhi                       1   \n",
              "38   3/3/2020  6:00 PM                Delhi                       1   \n",
              "42   3/4/2020  6:00 PM                Delhi                       1   \n",
              "45   3/5/2020  6:00 PM                Delhi                       2   \n",
              "51   3/6/2020  6:00 PM                Delhi                       3   \n",
              "62   3/7/2020  6:00 PM                Delhi                       3   \n",
              "71   3/8/2020  6:00 PM                Delhi                       3   \n",
              "84   3/9/2020  6:00 PM                Delhi                       4   \n",
              "87  3/10/2020  6:00 PM                Delhi                       4   \n",
              "98  3/11/2020  6:00 PM                Delhi                       5   \n",
              "\n",
              "   ConfirmedForeignNational  Cured  Deaths  Confirmed  ww_confirmed  ww_Cured  \\\n",
              "34                        0      0       0          1           NaN       NaN   \n",
              "38                        0      0       0          1           0.0       0.0   \n",
              "42                        0      0       0          1           0.0       0.0   \n",
              "45                        0      0       0          2           1.0       0.0   \n",
              "51                        0      0       0          3           1.0       0.0   \n",
              "62                        0      0       0          3           0.0       0.0   \n",
              "71                        0      0       0          3           0.0       0.0   \n",
              "84                        0      0       0          4           1.0       0.0   \n",
              "87                        0      0       0          4           0.0       0.0   \n",
              "98                        0      0       0          5           1.0       0.0   \n",
              "\n",
              "    ww_death  \n",
              "34       NaN  \n",
              "38       0.0  \n",
              "42       0.0  \n",
              "45       0.0  \n",
              "51       0.0  \n",
              "62       0.0  \n",
              "71       0.0  \n",
              "84       0.0  \n",
              "87       0.0  \n",
              "98       0.0  "
            ]
          },
          "execution_count": 12,
          "metadata": {},
          "output_type": "execute_result"
        }
      ],
      "source": [
        "Delhi_case.head(10)"
      ]
    },
    {
      "cell_type": "code",
      "execution_count": null,
      "metadata": {
        "id": "hA_w0JXb1UKq",
        "outputId": "4ae65bcc-9883-40b1-fc37-2c933b4ce931"
      },
      "outputs": [
        {
          "data": {
            "text/plain": [
              "dtype('O')"
            ]
          },
          "execution_count": 13,
          "metadata": {},
          "output_type": "execute_result"
        }
      ],
      "source": [
        "Delhi_case.Date.dtype"
      ]
    },
    {
      "cell_type": "code",
      "execution_count": null,
      "metadata": {
        "id": "uRrK8Avi1UKq"
      },
      "outputs": [],
      "source": [
        "Delhi_case.Date=pd.to_datetime(Delhi_case.Date)"
      ]
    },
    {
      "cell_type": "code",
      "execution_count": null,
      "metadata": {
        "id": "6r0CP-FX1UKq"
      },
      "outputs": [],
      "source": [
        "Delhi_case=Delhi_case.drop([\"Cured\",\"Deaths\",\"Confirmed\",\"ConfirmedIndianNational\",\"ConfirmedForeignNational\",\"State/UnionTerritory\"],axis=1)"
      ]
    },
    {
      "cell_type": "code",
      "execution_count": null,
      "metadata": {
        "id": "Val5piDA1UKq"
      },
      "outputs": [],
      "source": [
        "temp=Delhi_case.groupby(pd.Grouper(key=\"Date\",freq=\"W\")).sum()"
      ]
    },
    {
      "cell_type": "code",
      "execution_count": null,
      "metadata": {
        "id": "-Bavl8lj1UKq",
        "outputId": "f1f183da-6a5c-4dd8-c0eb-b3611fee2efa"
      },
      "outputs": [
        {
          "data": {
            "text/html": [
              "<div>\n",
              "<style scoped>\n",
              "    .dataframe tbody tr th:only-of-type {\n",
              "        vertical-align: middle;\n",
              "    }\n",
              "\n",
              "    .dataframe tbody tr th {\n",
              "        vertical-align: top;\n",
              "    }\n",
              "\n",
              "    .dataframe thead th {\n",
              "        text-align: right;\n",
              "    }\n",
              "</style>\n",
              "<table border=\"1\" class=\"dataframe\">\n",
              "  <thead>\n",
              "    <tr style=\"text-align: right;\">\n",
              "      <th></th>\n",
              "      <th>ww_confirmed</th>\n",
              "      <th>ww_Cured</th>\n",
              "      <th>ww_death</th>\n",
              "    </tr>\n",
              "    <tr>\n",
              "      <th>Date</th>\n",
              "      <th></th>\n",
              "      <th></th>\n",
              "      <th></th>\n",
              "    </tr>\n",
              "  </thead>\n",
              "  <tbody>\n",
              "    <tr>\n",
              "      <th>2020-03-08</th>\n",
              "      <td>2.0</td>\n",
              "      <td>0.0</td>\n",
              "      <td>0.0</td>\n",
              "    </tr>\n",
              "    <tr>\n",
              "      <th>2020-03-15</th>\n",
              "      <td>4.0</td>\n",
              "      <td>2.0</td>\n",
              "      <td>1.0</td>\n",
              "    </tr>\n",
              "    <tr>\n",
              "      <th>2020-03-22</th>\n",
              "      <td>22.0</td>\n",
              "      <td>3.0</td>\n",
              "      <td>0.0</td>\n",
              "    </tr>\n",
              "    <tr>\n",
              "      <th>2020-03-29</th>\n",
              "      <td>20.0</td>\n",
              "      <td>1.0</td>\n",
              "      <td>1.0</td>\n",
              "    </tr>\n",
              "    <tr>\n",
              "      <th>2020-04-05</th>\n",
              "      <td>454.0</td>\n",
              "      <td>12.0</td>\n",
              "      <td>5.0</td>\n",
              "    </tr>\n",
              "    <tr>\n",
              "      <th>...</th>\n",
              "      <td>...</td>\n",
              "      <td>...</td>\n",
              "      <td>...</td>\n",
              "    </tr>\n",
              "    <tr>\n",
              "      <th>2021-06-06</th>\n",
              "      <td>4217.0</td>\n",
              "      <td>10037.0</td>\n",
              "      <td>484.0</td>\n",
              "    </tr>\n",
              "    <tr>\n",
              "      <th>2021-06-13</th>\n",
              "      <td>2021.0</td>\n",
              "      <td>4899.0</td>\n",
              "      <td>243.0</td>\n",
              "    </tr>\n",
              "    <tr>\n",
              "      <th>2021-06-20</th>\n",
              "      <td>1284.0</td>\n",
              "      <td>2415.0</td>\n",
              "      <td>107.0</td>\n",
              "    </tr>\n",
              "    <tr>\n",
              "      <th>2021-06-27</th>\n",
              "      <td>1507.0</td>\n",
              "      <td>2227.0</td>\n",
              "      <td>54.0</td>\n",
              "    </tr>\n",
              "    <tr>\n",
              "      <th>2021-07-04</th>\n",
              "      <td>259.0</td>\n",
              "      <td>285.0</td>\n",
              "      <td>4.0</td>\n",
              "    </tr>\n",
              "  </tbody>\n",
              "</table>\n",
              "<p>70 rows × 3 columns</p>\n",
              "</div>"
            ],
            "text/plain": [
              "            ww_confirmed  ww_Cured  ww_death\n",
              "Date                                        \n",
              "2020-03-08           2.0       0.0       0.0\n",
              "2020-03-15           4.0       2.0       1.0\n",
              "2020-03-22          22.0       3.0       0.0\n",
              "2020-03-29          20.0       1.0       1.0\n",
              "2020-04-05         454.0      12.0       5.0\n",
              "...                  ...       ...       ...\n",
              "2021-06-06        4217.0   10037.0     484.0\n",
              "2021-06-13        2021.0    4899.0     243.0\n",
              "2021-06-20        1284.0    2415.0     107.0\n",
              "2021-06-27        1507.0    2227.0      54.0\n",
              "2021-07-04         259.0     285.0       4.0\n",
              "\n",
              "[70 rows x 3 columns]"
            ]
          },
          "execution_count": 17,
          "metadata": {},
          "output_type": "execute_result"
        }
      ],
      "source": [
        "temp"
      ]
    },
    {
      "cell_type": "code",
      "execution_count": null,
      "metadata": {
        "scrolled": true,
        "id": "pvPKjYm91UKq",
        "outputId": "13a4ae9d-40aa-476d-c849-72674c2c39bb"
      },
      "outputs": [
        {
          "data": {
            "text/html": [
              "<div>\n",
              "<style scoped>\n",
              "    .dataframe tbody tr th:only-of-type {\n",
              "        vertical-align: middle;\n",
              "    }\n",
              "\n",
              "    .dataframe tbody tr th {\n",
              "        vertical-align: top;\n",
              "    }\n",
              "\n",
              "    .dataframe thead th {\n",
              "        text-align: right;\n",
              "    }\n",
              "</style>\n",
              "<table border=\"1\" class=\"dataframe\">\n",
              "  <thead>\n",
              "    <tr style=\"text-align: right;\">\n",
              "      <th></th>\n",
              "      <th>ww_confirmed</th>\n",
              "      <th>ww_Cured</th>\n",
              "      <th>ww_death</th>\n",
              "    </tr>\n",
              "    <tr>\n",
              "      <th>Date</th>\n",
              "      <th></th>\n",
              "      <th></th>\n",
              "      <th></th>\n",
              "    </tr>\n",
              "  </thead>\n",
              "  <tbody>\n",
              "    <tr>\n",
              "      <th>2020-03-08</th>\n",
              "      <td>2.0</td>\n",
              "      <td>0.0</td>\n",
              "      <td>0.0</td>\n",
              "    </tr>\n",
              "    <tr>\n",
              "      <th>2020-03-15</th>\n",
              "      <td>4.0</td>\n",
              "      <td>2.0</td>\n",
              "      <td>1.0</td>\n",
              "    </tr>\n",
              "    <tr>\n",
              "      <th>2020-03-22</th>\n",
              "      <td>22.0</td>\n",
              "      <td>3.0</td>\n",
              "      <td>0.0</td>\n",
              "    </tr>\n",
              "    <tr>\n",
              "      <th>2020-03-29</th>\n",
              "      <td>20.0</td>\n",
              "      <td>1.0</td>\n",
              "      <td>1.0</td>\n",
              "    </tr>\n",
              "    <tr>\n",
              "      <th>2020-04-05</th>\n",
              "      <td>454.0</td>\n",
              "      <td>12.0</td>\n",
              "      <td>5.0</td>\n",
              "    </tr>\n",
              "    <tr>\n",
              "      <th>2020-04-12</th>\n",
              "      <td>566.0</td>\n",
              "      <td>7.0</td>\n",
              "      <td>12.0</td>\n",
              "    </tr>\n",
              "    <tr>\n",
              "      <th>2020-04-19</th>\n",
              "      <td>824.0</td>\n",
              "      <td>47.0</td>\n",
              "      <td>24.0</td>\n",
              "    </tr>\n",
              "    <tr>\n",
              "      <th>2020-04-26</th>\n",
              "      <td>732.0</td>\n",
              "      <td>797.0</td>\n",
              "      <td>11.0</td>\n",
              "    </tr>\n",
              "    <tr>\n",
              "      <th>2020-05-03</th>\n",
              "      <td>1497.0</td>\n",
              "      <td>387.0</td>\n",
              "      <td>10.0</td>\n",
              "    </tr>\n",
              "    <tr>\n",
              "      <th>2020-05-10</th>\n",
              "      <td>2420.0</td>\n",
              "      <td>764.0</td>\n",
              "      <td>9.0</td>\n",
              "    </tr>\n",
              "  </tbody>\n",
              "</table>\n",
              "</div>"
            ],
            "text/plain": [
              "            ww_confirmed  ww_Cured  ww_death\n",
              "Date                                        \n",
              "2020-03-08           2.0       0.0       0.0\n",
              "2020-03-15           4.0       2.0       1.0\n",
              "2020-03-22          22.0       3.0       0.0\n",
              "2020-03-29          20.0       1.0       1.0\n",
              "2020-04-05         454.0      12.0       5.0\n",
              "2020-04-12         566.0       7.0      12.0\n",
              "2020-04-19         824.0      47.0      24.0\n",
              "2020-04-26         732.0     797.0      11.0\n",
              "2020-05-03        1497.0     387.0      10.0\n",
              "2020-05-10        2420.0     764.0       9.0"
            ]
          },
          "execution_count": 18,
          "metadata": {},
          "output_type": "execute_result"
        }
      ],
      "source": [
        "temp.head(10)"
      ]
    },
    {
      "cell_type": "code",
      "execution_count": null,
      "metadata": {
        "id": "LuEhWPDX1UKq"
      },
      "outputs": [],
      "source": [
        "import seaborn as sns"
      ]
    },
    {
      "cell_type": "code",
      "execution_count": null,
      "metadata": {
        "id": "1oqor8yY1UKq",
        "outputId": "d553301b-c229-476f-bd5a-d23b488929b3"
      },
      "outputs": [
        {
          "name": "stderr",
          "output_type": "stream",
          "text": [
            "C:\\Users\\saloni\\anaconda3\\lib\\site-packages\\seaborn\\_decorators.py:36: FutureWarning: Pass the following variables as keyword args: x, y. From version 0.12, the only valid positional argument will be `data`, and passing other arguments without an explicit keyword will result in an error or misinterpretation.\n",
            "  warnings.warn(\n",
            "C:\\Users\\saloni\\anaconda3\\lib\\site-packages\\seaborn\\_decorators.py:36: FutureWarning: Pass the following variables as keyword args: x, y. From version 0.12, the only valid positional argument will be `data`, and passing other arguments without an explicit keyword will result in an error or misinterpretation.\n",
            "  warnings.warn(\n",
            "C:\\Users\\saloni\\anaconda3\\lib\\site-packages\\seaborn\\_decorators.py:36: FutureWarning: Pass the following variables as keyword args: x, y. From version 0.12, the only valid positional argument will be `data`, and passing other arguments without an explicit keyword will result in an error or misinterpretation.\n",
            "  warnings.warn(\n"
          ]
        },
        {
          "data": {
            "image/png": "[encoded data removed]",
            "text/plain": [
              "<Figure size 1296x720 with 1 Axes>"
            ]
          },
          "metadata": {
            "needs_background": "light"
          },
          "output_type": "display_data"
        }
      ],
      "source": [
        "plt.figure(figsize=[18,10])\n",
        "sns.lineplot(temp.index,temp.ww_confirmed);\n",
        "sns.lineplot(temp.index,temp.ww_Cured);\n",
        "sns.lineplot(temp.index,temp.ww_death);\n",
        "plt.xticks(rotation=90);\n",
        "plt.xlabel(\"Dates\",fontsize=20);\n",
        "plt.ylabel(\"No. of Cases\",fontsize=20);\n",
        "plt.legend([\"Confirmed Cases\",\"Cured Cases\",\"Death Cases\"]);\n",
        "plt.title(\"Covid-19 Cases : Delhi\",fontsize=20);"
      ]
    },
    {
      "cell_type": "code",
      "execution_count": null,
      "metadata": {
        "id": "gG6AyAfl1UKr",
        "outputId": "11fe2417-5236-4734-d138-d450ed10e490"
      },
      "outputs": [
        {
          "data": {
            "image/png": "[encoded data removed]",
            "text/plain": [
              "<Figure size 504x504 with 1 Axes>"
            ]
          },
          "metadata": {},
          "output_type": "display_data"
        }
      ],
      "source": [
        "plt.figure(figsize=[7,7])\n",
        "Data=[temp.ww_confirmed.sum(),temp.ww_Cured.sum(),temp.ww_death.sum()]\n",
        "plt.pie(Data,labels=[\"Confirmed cases\",\"Cured cases\",\"Death Cases\"],autopct=\"%.2f%%\",explode=[0,0,0.5],shadow=True);\n",
        "plt.title(\"Percentage Of Covid-19 Cases In Delhi\",fontsize=20);"
      ]
    },
    {
      "cell_type": "code",
      "execution_count": null,
      "metadata": {
        "id": "CUIcLPHa1UKr"
      },
      "outputs": [],
      "source": [
        "April_w=pd.read_excel(\"overall weather data.xlsx\")"
      ]
    },
    {
      "cell_type": "code",
      "execution_count": null,
      "metadata": {
        "id": "P3B0FYQS1UKr",
        "outputId": "b83228bb-f32c-4d52-8431-ae3c52b5373b"
      },
      "outputs": [
        {
          "data": {
            "text/html": [
              "<div>\n",
              "<style scoped>\n",
              "    .dataframe tbody tr th:only-of-type {\n",
              "        vertical-align: middle;\n",
              "    }\n",
              "\n",
              "    .dataframe tbody tr th {\n",
              "        vertical-align: top;\n",
              "    }\n",
              "\n",
              "    .dataframe thead th {\n",
              "        text-align: right;\n",
              "    }\n",
              "</style>\n",
              "<table border=\"1\" class=\"dataframe\">\n",
              "  <thead>\n",
              "    <tr style=\"text-align: right;\">\n",
              "      <th></th>\n",
              "      <th>Day</th>\n",
              "      <th>T</th>\n",
              "      <th>TM</th>\n",
              "      <th>Tm</th>\n",
              "      <th>SLP</th>\n",
              "      <th>H</th>\n",
              "      <th>PP</th>\n",
              "      <th>VV</th>\n",
              "      <th>V</th>\n",
              "      <th>VM</th>\n",
              "      <th>Unnamed: 10</th>\n",
              "    </tr>\n",
              "  </thead>\n",
              "  <tbody>\n",
              "    <tr>\n",
              "      <th>0</th>\n",
              "      <td>5</td>\n",
              "      <td>19.9</td>\n",
              "      <td>29.2</td>\n",
              "      <td>14.4</td>\n",
              "      <td>1010.3</td>\n",
              "      <td>82</td>\n",
              "      <td>0.51</td>\n",
              "      <td>1.9</td>\n",
              "      <td>10.4</td>\n",
              "      <td>16.5</td>\n",
              "      <td>NaN</td>\n",
              "    </tr>\n",
              "    <tr>\n",
              "      <th>1</th>\n",
              "      <td>6</td>\n",
              "      <td>16.3</td>\n",
              "      <td>27.0</td>\n",
              "      <td>14.0</td>\n",
              "      <td>1010</td>\n",
              "      <td>93</td>\n",
              "      <td>20.07</td>\n",
              "      <td>1.8</td>\n",
              "      <td>9.6</td>\n",
              "      <td>16.5</td>\n",
              "      <td>NaN</td>\n",
              "    </tr>\n",
              "    <tr>\n",
              "      <th>2</th>\n",
              "      <td>7</td>\n",
              "      <td>17.3</td>\n",
              "      <td>22.4</td>\n",
              "      <td>13.0</td>\n",
              "      <td>1015.1</td>\n",
              "      <td>91</td>\n",
              "      <td>20.07</td>\n",
              "      <td>1.9</td>\n",
              "      <td>3.9</td>\n",
              "      <td>9.4</td>\n",
              "      <td>NaN</td>\n",
              "    </tr>\n",
              "    <tr>\n",
              "      <th>3</th>\n",
              "      <td>8</td>\n",
              "      <td>18.0</td>\n",
              "      <td>24.4</td>\n",
              "      <td>11.1</td>\n",
              "      <td>1015.8</td>\n",
              "      <td>79</td>\n",
              "      <td>99.06</td>\n",
              "      <td>1.9</td>\n",
              "      <td>5.0</td>\n",
              "      <td>11.1</td>\n",
              "      <td>NaN</td>\n",
              "    </tr>\n",
              "    <tr>\n",
              "      <th>4</th>\n",
              "      <td>9</td>\n",
              "      <td>18.3</td>\n",
              "      <td>25.0</td>\n",
              "      <td>12.4</td>\n",
              "      <td>1013.1</td>\n",
              "      <td>72</td>\n",
              "      <td>0</td>\n",
              "      <td>2.7</td>\n",
              "      <td>8.5</td>\n",
              "      <td>18.3</td>\n",
              "      <td>NaN</td>\n",
              "    </tr>\n",
              "    <tr>\n",
              "      <th>...</th>\n",
              "      <td>...</td>\n",
              "      <td>...</td>\n",
              "      <td>...</td>\n",
              "      <td>...</td>\n",
              "      <td>...</td>\n",
              "      <td>...</td>\n",
              "      <td>...</td>\n",
              "      <td>...</td>\n",
              "      <td>...</td>\n",
              "      <td>...</td>\n",
              "      <td>...</td>\n",
              "    </tr>\n",
              "    <tr>\n",
              "      <th>266</th>\n",
              "      <td>26</td>\n",
              "      <td>19.1</td>\n",
              "      <td>24.0</td>\n",
              "      <td>14.0</td>\n",
              "      <td>-</td>\n",
              "      <td>60</td>\n",
              "      <td>0</td>\n",
              "      <td>2.9</td>\n",
              "      <td>8.0</td>\n",
              "      <td>11.0</td>\n",
              "      <td>NaN</td>\n",
              "    </tr>\n",
              "    <tr>\n",
              "      <th>267</th>\n",
              "      <td>27</td>\n",
              "      <td>17.1</td>\n",
              "      <td>24.0</td>\n",
              "      <td>11.2</td>\n",
              "      <td>-</td>\n",
              "      <td>62</td>\n",
              "      <td>0</td>\n",
              "      <td>2.6</td>\n",
              "      <td>8.3</td>\n",
              "      <td>44.0</td>\n",
              "      <td>NaN</td>\n",
              "    </tr>\n",
              "    <tr>\n",
              "      <th>268</th>\n",
              "      <td>28</td>\n",
              "      <td>17.4</td>\n",
              "      <td>25.0</td>\n",
              "      <td>10.6</td>\n",
              "      <td>-</td>\n",
              "      <td>57</td>\n",
              "      <td>0</td>\n",
              "      <td>2.4</td>\n",
              "      <td>6.9</td>\n",
              "      <td>14.0</td>\n",
              "      <td>NaN</td>\n",
              "    </tr>\n",
              "    <tr>\n",
              "      <th>269</th>\n",
              "      <td>29</td>\n",
              "      <td>16.1</td>\n",
              "      <td>24.0</td>\n",
              "      <td>8.8</td>\n",
              "      <td>-</td>\n",
              "      <td>59</td>\n",
              "      <td>0</td>\n",
              "      <td>2.6</td>\n",
              "      <td>3.0</td>\n",
              "      <td>16.0</td>\n",
              "      <td>NaN</td>\n",
              "    </tr>\n",
              "    <tr>\n",
              "      <th>270</th>\n",
              "      <td>30</td>\n",
              "      <td>16.2</td>\n",
              "      <td>24.0</td>\n",
              "      <td>9.0</td>\n",
              "      <td>-</td>\n",
              "      <td>60</td>\n",
              "      <td>0</td>\n",
              "      <td>1.8</td>\n",
              "      <td>3.3</td>\n",
              "      <td>11.0</td>\n",
              "      <td>NaN</td>\n",
              "    </tr>\n",
              "  </tbody>\n",
              "</table>\n",
              "<p>271 rows × 11 columns</p>\n",
              "</div>"
            ],
            "text/plain": [
              "     Day     T    TM    Tm     SLP   H     PP   VV     V    VM Unnamed: 10\n",
              "0      5  19.9  29.2  14.4  1010.3  82   0.51  1.9  10.4  16.5         NaN\n",
              "1      6  16.3  27.0  14.0    1010  93  20.07  1.8   9.6  16.5         NaN\n",
              "2      7  17.3  22.4  13.0  1015.1  91  20.07  1.9   3.9   9.4         NaN\n",
              "3      8  18.0  24.4  11.1  1015.8  79  99.06  1.9   5.0  11.1         NaN\n",
              "4      9  18.3  25.0  12.4  1013.1  72      0  2.7   8.5  18.3         NaN\n",
              "..   ...   ...   ...   ...     ...  ..    ...  ...   ...   ...         ...\n",
              "266   26  19.1  24.0  14.0       -  60      0  2.9   8.0  11.0         NaN\n",
              "267   27  17.1  24.0  11.2       -  62      0  2.6   8.3  44.0         NaN\n",
              "268   28  17.4  25.0  10.6       -  57      0  2.4   6.9  14.0         NaN\n",
              "269   29  16.1  24.0   8.8       -  59      0  2.6   3.0  16.0         NaN\n",
              "270   30  16.2  24.0   9.0       -  60      0  1.8   3.3  11.0         NaN\n",
              "\n",
              "[271 rows x 11 columns]"
            ]
          },
          "execution_count": 23,
          "metadata": {},
          "output_type": "execute_result"
        }
      ],
      "source": [
        "April_w"
      ]
    },
    {
      "cell_type": "code",
      "execution_count": null,
      "metadata": {
        "id": "f2Jw7zoL1UKr"
      },
      "outputs": [],
      "source": [
        "April_w=April_w.drop([\"TM\",\"Tm\",\"SLP\",\"PP\",\"VV\",\"V\",\"VM\",\"Unnamed: 10\"],axis=1).rename(columns={\"T\":\"Temprature\",\"H\":\"Humidity\"})"
      ]
    },
    {
      "cell_type": "code",
      "execution_count": null,
      "metadata": {
        "id": "HIousNlX1UKr",
        "outputId": "ee8d7384-565a-4cce-df12-ce1ef2b60013"
      },
      "outputs": [
        {
          "data": {
            "text/html": [
              "<div>\n",
              "<style scoped>\n",
              "    .dataframe tbody tr th:only-of-type {\n",
              "        vertical-align: middle;\n",
              "    }\n",
              "\n",
              "    .dataframe tbody tr th {\n",
              "        vertical-align: top;\n",
              "    }\n",
              "\n",
              "    .dataframe thead th {\n",
              "        text-align: right;\n",
              "    }\n",
              "</style>\n",
              "<table border=\"1\" class=\"dataframe\">\n",
              "  <thead>\n",
              "    <tr style=\"text-align: right;\">\n",
              "      <th></th>\n",
              "      <th>Day</th>\n",
              "      <th>Temprature</th>\n",
              "      <th>Humidity</th>\n",
              "    </tr>\n",
              "  </thead>\n",
              "  <tbody>\n",
              "    <tr>\n",
              "      <th>0</th>\n",
              "      <td>5</td>\n",
              "      <td>19.9</td>\n",
              "      <td>82</td>\n",
              "    </tr>\n",
              "    <tr>\n",
              "      <th>1</th>\n",
              "      <td>6</td>\n",
              "      <td>16.3</td>\n",
              "      <td>93</td>\n",
              "    </tr>\n",
              "    <tr>\n",
              "      <th>2</th>\n",
              "      <td>7</td>\n",
              "      <td>17.3</td>\n",
              "      <td>91</td>\n",
              "    </tr>\n",
              "    <tr>\n",
              "      <th>3</th>\n",
              "      <td>8</td>\n",
              "      <td>18.0</td>\n",
              "      <td>79</td>\n",
              "    </tr>\n",
              "    <tr>\n",
              "      <th>4</th>\n",
              "      <td>9</td>\n",
              "      <td>18.3</td>\n",
              "      <td>72</td>\n",
              "    </tr>\n",
              "    <tr>\n",
              "      <th>...</th>\n",
              "      <td>...</td>\n",
              "      <td>...</td>\n",
              "      <td>...</td>\n",
              "    </tr>\n",
              "    <tr>\n",
              "      <th>266</th>\n",
              "      <td>26</td>\n",
              "      <td>19.1</td>\n",
              "      <td>60</td>\n",
              "    </tr>\n",
              "    <tr>\n",
              "      <th>267</th>\n",
              "      <td>27</td>\n",
              "      <td>17.1</td>\n",
              "      <td>62</td>\n",
              "    </tr>\n",
              "    <tr>\n",
              "      <th>268</th>\n",
              "      <td>28</td>\n",
              "      <td>17.4</td>\n",
              "      <td>57</td>\n",
              "    </tr>\n",
              "    <tr>\n",
              "      <th>269</th>\n",
              "      <td>29</td>\n",
              "      <td>16.1</td>\n",
              "      <td>59</td>\n",
              "    </tr>\n",
              "    <tr>\n",
              "      <th>270</th>\n",
              "      <td>30</td>\n",
              "      <td>16.2</td>\n",
              "      <td>60</td>\n",
              "    </tr>\n",
              "  </tbody>\n",
              "</table>\n",
              "<p>271 rows × 3 columns</p>\n",
              "</div>"
            ],
            "text/plain": [
              "     Day  Temprature  Humidity\n",
              "0      5        19.9        82\n",
              "1      6        16.3        93\n",
              "2      7        17.3        91\n",
              "3      8        18.0        79\n",
              "4      9        18.3        72\n",
              "..   ...         ...       ...\n",
              "266   26        19.1        60\n",
              "267   27        17.1        62\n",
              "268   28        17.4        57\n",
              "269   29        16.1        59\n",
              "270   30        16.2        60\n",
              "\n",
              "[271 rows x 3 columns]"
            ]
          },
          "execution_count": 25,
          "metadata": {},
          "output_type": "execute_result"
        }
      ],
      "source": [
        "April_w"
      ]
    },
    {
      "cell_type": "code",
      "execution_count": null,
      "metadata": {
        "id": "BwGValWB1UKr",
        "outputId": "c043164d-203b-48bf-fb19-0aa41a0d4756"
      },
      "outputs": [
        {
          "data": {
            "text/plain": [
              "271"
            ]
          },
          "execution_count": 26,
          "metadata": {},
          "output_type": "execute_result"
        }
      ],
      "source": [
        "April_w.Day.value_counts().sum()"
      ]
    },
    {
      "cell_type": "code",
      "execution_count": null,
      "metadata": {
        "id": "-M0Bd5C71UKr"
      },
      "outputs": [],
      "source": [
        "april_date=pd.date_range(start='03/05/2020', end='30/11/2020')"
      ]
    },
    {
      "cell_type": "code",
      "execution_count": null,
      "metadata": {
        "id": "a1QJ3A_w1UKr",
        "outputId": "7cf5169d-b3f6-4f9e-bab4-a30b093c0d03"
      },
      "outputs": [
        {
          "data": {
            "text/plain": [
              "271"
            ]
          },
          "execution_count": 28,
          "metadata": {},
          "output_type": "execute_result"
        }
      ],
      "source": [
        "april_date.value_counts().sum()"
      ]
    },
    {
      "cell_type": "code",
      "execution_count": null,
      "metadata": {
        "id": "ShJD8x9Z1UKr",
        "outputId": "22f327ef-0828-480d-8a47-82c888cffc4e"
      },
      "outputs": [
        {
          "data": {
            "text/plain": [
              "DatetimeIndex(['2020-03-05', '2020-03-06', '2020-03-07', '2020-03-08',\n",
              "               '2020-03-09', '2020-03-10', '2020-03-11', '2020-03-12',\n",
              "               '2020-03-13', '2020-03-14',\n",
              "               ...\n",
              "               '2020-11-21', '2020-11-22', '2020-11-23', '2020-11-24',\n",
              "               '2020-11-25', '2020-11-26', '2020-11-27', '2020-11-28',\n",
              "               '2020-11-29', '2020-11-30'],\n",
              "              dtype='datetime64[ns]', length=271, freq='D')"
            ]
          },
          "execution_count": 29,
          "metadata": {},
          "output_type": "execute_result"
        }
      ],
      "source": [
        "april_date"
      ]
    },
    {
      "cell_type": "code",
      "execution_count": null,
      "metadata": {
        "id": "Vm9pq9ik1UKs"
      },
      "outputs": [],
      "source": [
        "April_w[\"Day\"]=april_date"
      ]
    },
    {
      "cell_type": "code",
      "execution_count": null,
      "metadata": {
        "id": "0BWhx2UT1UKs",
        "outputId": "e2994e99-5bdb-45bd-f460-ba859bcdae0a"
      },
      "outputs": [
        {
          "data": {
            "text/html": [
              "<div>\n",
              "<style scoped>\n",
              "    .dataframe tbody tr th:only-of-type {\n",
              "        vertical-align: middle;\n",
              "    }\n",
              "\n",
              "    .dataframe tbody tr th {\n",
              "        vertical-align: top;\n",
              "    }\n",
              "\n",
              "    .dataframe thead th {\n",
              "        text-align: right;\n",
              "    }\n",
              "</style>\n",
              "<table border=\"1\" class=\"dataframe\">\n",
              "  <thead>\n",
              "    <tr style=\"text-align: right;\">\n",
              "      <th></th>\n",
              "      <th>Date</th>\n",
              "      <th>Temprature</th>\n",
              "      <th>Humidity</th>\n",
              "    </tr>\n",
              "  </thead>\n",
              "  <tbody>\n",
              "    <tr>\n",
              "      <th>0</th>\n",
              "      <td>2020-03-05</td>\n",
              "      <td>19.9</td>\n",
              "      <td>82</td>\n",
              "    </tr>\n",
              "    <tr>\n",
              "      <th>1</th>\n",
              "      <td>2020-03-06</td>\n",
              "      <td>16.3</td>\n",
              "      <td>93</td>\n",
              "    </tr>\n",
              "    <tr>\n",
              "      <th>2</th>\n",
              "      <td>2020-03-07</td>\n",
              "      <td>17.3</td>\n",
              "      <td>91</td>\n",
              "    </tr>\n",
              "    <tr>\n",
              "      <th>3</th>\n",
              "      <td>2020-03-08</td>\n",
              "      <td>18.0</td>\n",
              "      <td>79</td>\n",
              "    </tr>\n",
              "    <tr>\n",
              "      <th>4</th>\n",
              "      <td>2020-03-09</td>\n",
              "      <td>18.3</td>\n",
              "      <td>72</td>\n",
              "    </tr>\n",
              "    <tr>\n",
              "      <th>...</th>\n",
              "      <td>...</td>\n",
              "      <td>...</td>\n",
              "      <td>...</td>\n",
              "    </tr>\n",
              "    <tr>\n",
              "      <th>266</th>\n",
              "      <td>2020-11-26</td>\n",
              "      <td>19.1</td>\n",
              "      <td>60</td>\n",
              "    </tr>\n",
              "    <tr>\n",
              "      <th>267</th>\n",
              "      <td>2020-11-27</td>\n",
              "      <td>17.1</td>\n",
              "      <td>62</td>\n",
              "    </tr>\n",
              "    <tr>\n",
              "      <th>268</th>\n",
              "      <td>2020-11-28</td>\n",
              "      <td>17.4</td>\n",
              "      <td>57</td>\n",
              "    </tr>\n",
              "    <tr>\n",
              "      <th>269</th>\n",
              "      <td>2020-11-29</td>\n",
              "      <td>16.1</td>\n",
              "      <td>59</td>\n",
              "    </tr>\n",
              "    <tr>\n",
              "      <th>270</th>\n",
              "      <td>2020-11-30</td>\n",
              "      <td>16.2</td>\n",
              "      <td>60</td>\n",
              "    </tr>\n",
              "  </tbody>\n",
              "</table>\n",
              "<p>271 rows × 3 columns</p>\n",
              "</div>"
            ],
            "text/plain": [
              "          Date  Temprature  Humidity\n",
              "0   2020-03-05        19.9        82\n",
              "1   2020-03-06        16.3        93\n",
              "2   2020-03-07        17.3        91\n",
              "3   2020-03-08        18.0        79\n",
              "4   2020-03-09        18.3        72\n",
              "..         ...         ...       ...\n",
              "266 2020-11-26        19.1        60\n",
              "267 2020-11-27        17.1        62\n",
              "268 2020-11-28        17.4        57\n",
              "269 2020-11-29        16.1        59\n",
              "270 2020-11-30        16.2        60\n",
              "\n",
              "[271 rows x 3 columns]"
            ]
          },
          "execution_count": 31,
          "metadata": {},
          "output_type": "execute_result"
        }
      ],
      "source": [
        "April_w[\"Day\"]=pd.to_datetime(April_w.Day)\n",
        "April_w=April_w.rename(columns={\"Day\":\"Date\"})\n",
        "April_w"
      ]
    },
    {
      "cell_type": "code",
      "execution_count": null,
      "metadata": {
        "id": "tK33qbF31UKs",
        "outputId": "ebeaf9a5-657f-4d0b-9b90-a588d11c1998"
      },
      "outputs": [
        {
          "name": "stderr",
          "output_type": "stream",
          "text": [
            "C:\\Users\\saloni\\anaconda3\\lib\\site-packages\\seaborn\\_decorators.py:36: FutureWarning: Pass the following variables as keyword args: x, y. From version 0.12, the only valid positional argument will be `data`, and passing other arguments without an explicit keyword will result in an error or misinterpretation.\n",
            "  warnings.warn(\n"
          ]
        },
        {
          "data": {
            "image/png": "[encoded data removed]",
            "text/plain": [
              "<Figure size 720x504 with 1 Axes>"
            ]
          },
          "metadata": {
            "needs_background": "light"
          },
          "output_type": "display_data"
        }
      ],
      "source": [
        "plt.figure(figsize=[10,7])\n",
        "sns.lineplot(April_w.Date,April_w.Temprature)\n",
        "plt.xlabel(\"Date\",fontsize=20);\n",
        "plt.ylabel(\"Temprature\",fontsize=20);\n"
      ]
    },
    {
      "cell_type": "code",
      "execution_count": null,
      "metadata": {
        "id": "4inocDYi1UKs",
        "outputId": "37a35ca1-1ee6-408e-e242-07dc59239733"
      },
      "outputs": [
        {
          "name": "stderr",
          "output_type": "stream",
          "text": [
            "C:\\Users\\saloni\\anaconda3\\lib\\site-packages\\seaborn\\_decorators.py:36: FutureWarning: Pass the following variables as keyword args: x, y. From version 0.12, the only valid positional argument will be `data`, and passing other arguments without an explicit keyword will result in an error or misinterpretation.\n",
            "  warnings.warn(\n"
          ]
        },
        {
          "data": {
            "image/png": "[encoded data removed]",
            "text/plain": [
              "<Figure size 720x504 with 1 Axes>"
            ]
          },
          "metadata": {
            "needs_background": "light"
          },
          "output_type": "display_data"
        }
      ],
      "source": [
        "plt.figure(figsize=[10,7])\n",
        "sns.lineplot(April_w.Date,April_w.Humidity)\n",
        "plt.xlabel(\"Date\",fontsize=20);\n",
        "plt.ylabel(\"Humidity\",fontsize=20);\n"
      ]
    },
    {
      "cell_type": "code",
      "execution_count": null,
      "metadata": {
        "id": "gEA1rKwa1UKs"
      },
      "outputs": [],
      "source": [
        "Delhi_case_w=Delhi_case[(Delhi_case.Date >= '2020-03-5') & (Delhi_case.Date <= '2020-11-30')]"
      ]
    },
    {
      "cell_type": "code",
      "execution_count": null,
      "metadata": {
        "id": "Jx__PX6J1UKs"
      },
      "outputs": [],
      "source": [
        "combined_data=pd.merge(April_w,Delhi_case_w,on=\"Date\")"
      ]
    },
    {
      "cell_type": "code",
      "execution_count": null,
      "metadata": {
        "id": "5aCUGBpj1UKs",
        "outputId": "6fd775d3-62d8-4816-eaba-e2720d3b023c"
      },
      "outputs": [
        {
          "data": {
            "text/html": [
              "<div>\n",
              "<style scoped>\n",
              "    .dataframe tbody tr th:only-of-type {\n",
              "        vertical-align: middle;\n",
              "    }\n",
              "\n",
              "    .dataframe tbody tr th {\n",
              "        vertical-align: top;\n",
              "    }\n",
              "\n",
              "    .dataframe thead th {\n",
              "        text-align: right;\n",
              "    }\n",
              "</style>\n",
              "<table border=\"1\" class=\"dataframe\">\n",
              "  <thead>\n",
              "    <tr style=\"text-align: right;\">\n",
              "      <th></th>\n",
              "      <th>Date</th>\n",
              "      <th>Temprature</th>\n",
              "      <th>Humidity</th>\n",
              "      <th>Time</th>\n",
              "      <th>Confirmed cases</th>\n",
              "      <th>Cured cases</th>\n",
              "      <th>Deaths cases</th>\n",
              "    </tr>\n",
              "  </thead>\n",
              "  <tbody>\n",
              "    <tr>\n",
              "      <th>0</th>\n",
              "      <td>2020-03-05</td>\n",
              "      <td>19.9</td>\n",
              "      <td>82</td>\n",
              "      <td>6:00 PM</td>\n",
              "      <td>1.0</td>\n",
              "      <td>0.0</td>\n",
              "      <td>0.0</td>\n",
              "    </tr>\n",
              "    <tr>\n",
              "      <th>1</th>\n",
              "      <td>2020-03-06</td>\n",
              "      <td>16.3</td>\n",
              "      <td>93</td>\n",
              "      <td>6:00 PM</td>\n",
              "      <td>1.0</td>\n",
              "      <td>0.0</td>\n",
              "      <td>0.0</td>\n",
              "    </tr>\n",
              "    <tr>\n",
              "      <th>2</th>\n",
              "      <td>2020-03-07</td>\n",
              "      <td>17.3</td>\n",
              "      <td>91</td>\n",
              "      <td>6:00 PM</td>\n",
              "      <td>0.0</td>\n",
              "      <td>0.0</td>\n",
              "      <td>0.0</td>\n",
              "    </tr>\n",
              "    <tr>\n",
              "      <th>3</th>\n",
              "      <td>2020-03-08</td>\n",
              "      <td>18.0</td>\n",
              "      <td>79</td>\n",
              "      <td>6:00 PM</td>\n",
              "      <td>0.0</td>\n",
              "      <td>0.0</td>\n",
              "      <td>0.0</td>\n",
              "    </tr>\n",
              "    <tr>\n",
              "      <th>4</th>\n",
              "      <td>2020-03-09</td>\n",
              "      <td>18.3</td>\n",
              "      <td>72</td>\n",
              "      <td>6:00 PM</td>\n",
              "      <td>1.0</td>\n",
              "      <td>0.0</td>\n",
              "      <td>0.0</td>\n",
              "    </tr>\n",
              "    <tr>\n",
              "      <th>...</th>\n",
              "      <td>...</td>\n",
              "      <td>...</td>\n",
              "      <td>...</td>\n",
              "      <td>...</td>\n",
              "      <td>...</td>\n",
              "      <td>...</td>\n",
              "      <td>...</td>\n",
              "    </tr>\n",
              "    <tr>\n",
              "      <th>266</th>\n",
              "      <td>2020-11-26</td>\n",
              "      <td>19.1</td>\n",
              "      <td>60</td>\n",
              "      <td>8:00 AM</td>\n",
              "      <td>5246.0</td>\n",
              "      <td>5361.0</td>\n",
              "      <td>99.0</td>\n",
              "    </tr>\n",
              "    <tr>\n",
              "      <th>267</th>\n",
              "      <td>2020-11-27</td>\n",
              "      <td>17.1</td>\n",
              "      <td>62</td>\n",
              "      <td>8:00 AM</td>\n",
              "      <td>5475.0</td>\n",
              "      <td>4937.0</td>\n",
              "      <td>91.0</td>\n",
              "    </tr>\n",
              "    <tr>\n",
              "      <th>268</th>\n",
              "      <td>2020-11-28</td>\n",
              "      <td>17.4</td>\n",
              "      <td>57</td>\n",
              "      <td>8:00 AM</td>\n",
              "      <td>5482.0</td>\n",
              "      <td>5937.0</td>\n",
              "      <td>98.0</td>\n",
              "    </tr>\n",
              "    <tr>\n",
              "      <th>269</th>\n",
              "      <td>2020-11-29</td>\n",
              "      <td>16.1</td>\n",
              "      <td>59</td>\n",
              "      <td>8:00 AM</td>\n",
              "      <td>4998.0</td>\n",
              "      <td>6512.0</td>\n",
              "      <td>89.0</td>\n",
              "    </tr>\n",
              "    <tr>\n",
              "      <th>270</th>\n",
              "      <td>2020-11-30</td>\n",
              "      <td>16.2</td>\n",
              "      <td>60</td>\n",
              "      <td>8:00 AM</td>\n",
              "      <td>4906.0</td>\n",
              "      <td>6325.0</td>\n",
              "      <td>68.0</td>\n",
              "    </tr>\n",
              "  </tbody>\n",
              "</table>\n",
              "<p>271 rows × 7 columns</p>\n",
              "</div>"
            ],
            "text/plain": [
              "          Date  Temprature  Humidity     Time  Confirmed cases  Cured cases  \\\n",
              "0   2020-03-05        19.9        82  6:00 PM              1.0          0.0   \n",
              "1   2020-03-06        16.3        93  6:00 PM              1.0          0.0   \n",
              "2   2020-03-07        17.3        91  6:00 PM              0.0          0.0   \n",
              "3   2020-03-08        18.0        79  6:00 PM              0.0          0.0   \n",
              "4   2020-03-09        18.3        72  6:00 PM              1.0          0.0   \n",
              "..         ...         ...       ...      ...              ...          ...   \n",
              "266 2020-11-26        19.1        60  8:00 AM           5246.0       5361.0   \n",
              "267 2020-11-27        17.1        62  8:00 AM           5475.0       4937.0   \n",
              "268 2020-11-28        17.4        57  8:00 AM           5482.0       5937.0   \n",
              "269 2020-11-29        16.1        59  8:00 AM           4998.0       6512.0   \n",
              "270 2020-11-30        16.2        60  8:00 AM           4906.0       6325.0   \n",
              "\n",
              "     Deaths cases  \n",
              "0             0.0  \n",
              "1             0.0  \n",
              "2             0.0  \n",
              "3             0.0  \n",
              "4             0.0  \n",
              "..            ...  \n",
              "266          99.0  \n",
              "267          91.0  \n",
              "268          98.0  \n",
              "269          89.0  \n",
              "270          68.0  \n",
              "\n",
              "[271 rows x 7 columns]"
            ]
          },
          "execution_count": 56,
          "metadata": {},
          "output_type": "execute_result"
        }
      ],
      "source": [
        "combined_data=combined_data.rename(columns={\"ww_confirmed\":\"Confirmed cases\",\"ww_Cured\":\"Cured cases\",\"ww_death\":\"Death cases\"})\n",
        "combined_data"
      ]
    },
    {
      "cell_type": "code",
      "execution_count": null,
      "metadata": {
        "id": "YaI5P8Ox1UKs",
        "outputId": "a57b596c-86dd-451b-b0b0-4cf977721e15"
      },
      "outputs": [
        {
          "name": "stderr",
          "output_type": "stream",
          "text": [
            "C:\\Users\\saloni\\anaconda3\\lib\\site-packages\\seaborn\\_decorators.py:36: FutureWarning: Pass the following variables as keyword args: x, y. From version 0.12, the only valid positional argument will be `data`, and passing other arguments without an explicit keyword will result in an error or misinterpretation.\n",
            "  warnings.warn(\n",
            "C:\\Users\\saloni\\anaconda3\\lib\\site-packages\\seaborn\\_decorators.py:36: FutureWarning: Pass the following variables as keyword args: x, y. From version 0.12, the only valid positional argument will be `data`, and passing other arguments without an explicit keyword will result in an error or misinterpretation.\n",
            "  warnings.warn(\n"
          ]
        },
        {
          "data": {
            "image/png": "[encoded data removed]",
            "text/plain": [
              "<Figure size 720x504 with 1 Axes>"
            ]
          },
          "metadata": {
            "needs_background": "light"
          },
          "output_type": "display_data"
        }
      ],
      "source": [
        "plt.figure(figsize=[10,7])\n",
        "sns.lineplot(combined_data.Date,combined_data[\"Humidity\"]);\n",
        "#sns.lineplot(combined_data.Date,combined_data[\"Confirmed cases\"]);\n",
        "#sns.lineplot(combined_data.Date,combined_data[\"Cured cases\"]);\n",
        "sns.lineplot(combined_data.Date,np.sqrt(combined_data[\"Deaths cases\"]));\n",
        "plt.legend([\"Humidity\",\"Death cases\"]);\n",
        "plt.xlabel(\"Date\",fontsize=20);\n",
        "plt.ylabel(\"Value\",fontsize=20);"
      ]
    },
    {
      "cell_type": "code",
      "execution_count": null,
      "metadata": {
        "id": "5RPLYnPH1UKs",
        "outputId": "041d0aad-c281-4523-c797-35906fcb4803"
      },
      "outputs": [
        {
          "name": "stderr",
          "output_type": "stream",
          "text": [
            "C:\\Users\\saloni\\anaconda3\\lib\\site-packages\\seaborn\\_decorators.py:36: FutureWarning: Pass the following variables as keyword args: x, y. From version 0.12, the only valid positional argument will be `data`, and passing other arguments without an explicit keyword will result in an error or misinterpretation.\n",
            "  warnings.warn(\n",
            "C:\\Users\\saloni\\anaconda3\\lib\\site-packages\\seaborn\\_decorators.py:36: FutureWarning: Pass the following variables as keyword args: x, y. From version 0.12, the only valid positional argument will be `data`, and passing other arguments without an explicit keyword will result in an error or misinterpretation.\n",
            "  warnings.warn(\n"
          ]
        },
        {
          "data": {
            "image/png": "[encoded data removed]",
            "text/plain": [
              "<Figure size 1440x504 with 1 Axes>"
            ]
          },
          "metadata": {
            "needs_background": "light"
          },
          "output_type": "display_data"
        }
      ],
      "source": [
        "plt.figure(figsize=[20,7])\n",
        "sns.lineplot(combined_data.Date,combined_data[\"Temprature\"]);\n",
        "#sns.lineplot(combined_data.Date,combined_data[\"Confirmed cases\"]);\n",
        "#sns.lineplot(combined_data.Date,combined_data[\"Cured cases\"]);\n",
        "sns.lineplot(combined_data.Date,np.sqrt(combined_data[\"Deaths cases\"]));\n",
        "plt.legend([\"Temprature\",\"Death cases\"]);\n",
        "plt.xlabel(\"Date\",fontsize=20);\n",
        "plt.ylabel(\"Value\",fontsize=20);"
      ]
    },
    {
      "cell_type": "code",
      "execution_count": null,
      "metadata": {
        "id": "oajZC9ge1UKt",
        "outputId": "c84de108-7f45-4942-d156-51af7ac389e3"
      },
      "outputs": [
        {
          "data": {
            "text/plain": [
              "437.0"
            ]
          },
          "execution_count": 72,
          "metadata": {},
          "output_type": "execute_result"
        }
      ],
      "source": [
        "combined_data[\"Deaths cases\"].max()"
      ]
    },
    {
      "cell_type": "code",
      "execution_count": null,
      "metadata": {
        "id": "ikMYRThA1UKx"
      },
      "outputs": [],
      "source": []
    }
  ],
  "metadata": {
    "kernelspec": {
      "display_name": "Python 3",
      "language": "python",
      "name": "python3"
    },
    "language_info": {
      "codemirror_mode": {
        "name": "ipython",
        "version": 3
      },
      "file_extension": ".py",
      "mimetype": "text/x-python",
      "name": "python",
      "nbconvert_exporter": "python",
      "pygments_lexer": "ipython3",
      "version": "3.8.5"
    },
    "colab": {
      "provenance": []
    }
  },
  "nbformat": 4,
  "nbformat_minor": 0
}